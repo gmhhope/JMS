{
 "cells": [
  {
   "cell_type": "markdown",
   "id": "28000bb2",
   "metadata": {},
   "source": [
    "### Extend Azimuth compound list for Class information for Georgie - Mummichog visualisation \n",
    "\n",
    "\n",
    "Input Files:\n",
    "\n",
    "1- masstochem/source_data/azimuth_id_compounds.tsv.gz\n",
    "\n",
    "2- 61.2 MB V4.0 HMDB Full https://hmdb.ca/downloads\n",
    "\n",
    "\n",
    "Output File: \n",
    "\n",
    "- azimuth_id_compounds_extended_v4HMDB.tsv"
   ]
  },
  {
   "cell_type": "code",
   "execution_count": 3,
   "id": "e354aedb",
   "metadata": {},
   "outputs": [],
   "source": [
    "library(dplyr)"
   ]
  },
  {
   "cell_type": "code",
   "execution_count": 9,
   "id": "ea37dd00",
   "metadata": {},
   "outputs": [
    {
     "data": {
      "text/html": [
       "<table class=\"dataframe\">\n",
       "<caption>A data.frame: 6 × 7</caption>\n",
       "<thead>\n",
       "\t<tr><th></th><th scope=col>azimuth_id</th><th scope=col>accession</th><th scope=col>name</th><th scope=col>chemical_formula</th><th scope=col>monisotopic_molecular_weight</th><th scope=col>kegg_id</th><th scope=col>pubchem_compound_id</th></tr>\n",
       "\t<tr><th></th><th scope=col>&lt;chr&gt;</th><th scope=col>&lt;chr&gt;</th><th scope=col>&lt;chr&gt;</th><th scope=col>&lt;chr&gt;</th><th scope=col>&lt;dbl&gt;</th><th scope=col>&lt;chr&gt;</th><th scope=col>&lt;int&gt;</th></tr>\n",
       "</thead>\n",
       "<tbody>\n",
       "\t<tr><th scope=row>1</th><td>az0000001</td><td>HMDB0104053</td><td>TG(16:0/a-15:0/i-14:0)[rac]</td><td>C48H92O6</td><td>764.6894</td><td></td><td>131812190</td></tr>\n",
       "\t<tr><th scope=row>2</th><td>az0000002</td><td>HMDB0104054</td><td>TG(16:0/i-15:0/14:0)       </td><td>C48H92O6</td><td>764.6894</td><td></td><td>       NA</td></tr>\n",
       "\t<tr><th scope=row>3</th><td>az0000003</td><td>HMDB0104055</td><td>TG(i-16:0/15:0/i-14:0)     </td><td>C48H92O6</td><td>764.6894</td><td></td><td>131812192</td></tr>\n",
       "\t<tr><th scope=row>4</th><td>az0000004</td><td>HMDB0104056</td><td>TG(16:0/i-15:0/i-14:0)     </td><td>C48H92O6</td><td>764.6894</td><td></td><td>131812193</td></tr>\n",
       "\t<tr><th scope=row>5</th><td>az0000005</td><td>HMDB0104057</td><td>TG(i-16:0/i-15:0/14:0)     </td><td>C48H92O6</td><td>764.6894</td><td></td><td>131812194</td></tr>\n",
       "\t<tr><th scope=row>6</th><td>az0000006</td><td>HMDB0104058</td><td>TG(i-16:0/i-15:0/i-14:0)   </td><td>C48H92O6</td><td>764.6894</td><td></td><td>131812195</td></tr>\n",
       "</tbody>\n",
       "</table>\n"
      ],
      "text/latex": [
       "A data.frame: 6 × 7\n",
       "\\begin{tabular}{r|lllllll}\n",
       "  & azimuth\\_id & accession & name & chemical\\_formula & monisotopic\\_molecular\\_weight & kegg\\_id & pubchem\\_compound\\_id\\\\\n",
       "  & <chr> & <chr> & <chr> & <chr> & <dbl> & <chr> & <int>\\\\\n",
       "\\hline\n",
       "\t1 & az0000001 & HMDB0104053 & TG(16:0/a-15:0/i-14:0){[}rac{]} & C48H92O6 & 764.6894 &  & 131812190\\\\\n",
       "\t2 & az0000002 & HMDB0104054 & TG(16:0/i-15:0/14:0)        & C48H92O6 & 764.6894 &  &        NA\\\\\n",
       "\t3 & az0000003 & HMDB0104055 & TG(i-16:0/15:0/i-14:0)      & C48H92O6 & 764.6894 &  & 131812192\\\\\n",
       "\t4 & az0000004 & HMDB0104056 & TG(16:0/i-15:0/i-14:0)      & C48H92O6 & 764.6894 &  & 131812193\\\\\n",
       "\t5 & az0000005 & HMDB0104057 & TG(i-16:0/i-15:0/14:0)      & C48H92O6 & 764.6894 &  & 131812194\\\\\n",
       "\t6 & az0000006 & HMDB0104058 & TG(i-16:0/i-15:0/i-14:0)    & C48H92O6 & 764.6894 &  & 131812195\\\\\n",
       "\\end{tabular}\n"
      ],
      "text/markdown": [
       "\n",
       "A data.frame: 6 × 7\n",
       "\n",
       "| <!--/--> | azimuth_id &lt;chr&gt; | accession &lt;chr&gt; | name &lt;chr&gt; | chemical_formula &lt;chr&gt; | monisotopic_molecular_weight &lt;dbl&gt; | kegg_id &lt;chr&gt; | pubchem_compound_id &lt;int&gt; |\n",
       "|---|---|---|---|---|---|---|---|\n",
       "| 1 | az0000001 | HMDB0104053 | TG(16:0/a-15:0/i-14:0)[rac] | C48H92O6 | 764.6894 | <!----> | 131812190 |\n",
       "| 2 | az0000002 | HMDB0104054 | TG(16:0/i-15:0/14:0)        | C48H92O6 | 764.6894 | <!----> |        NA |\n",
       "| 3 | az0000003 | HMDB0104055 | TG(i-16:0/15:0/i-14:0)      | C48H92O6 | 764.6894 | <!----> | 131812192 |\n",
       "| 4 | az0000004 | HMDB0104056 | TG(16:0/i-15:0/i-14:0)      | C48H92O6 | 764.6894 | <!----> | 131812193 |\n",
       "| 5 | az0000005 | HMDB0104057 | TG(i-16:0/i-15:0/14:0)      | C48H92O6 | 764.6894 | <!----> | 131812194 |\n",
       "| 6 | az0000006 | HMDB0104058 | TG(i-16:0/i-15:0/i-14:0)    | C48H92O6 | 764.6894 | <!----> | 131812195 |\n",
       "\n"
      ],
      "text/plain": [
       "  azimuth_id accession   name                        chemical_formula\n",
       "1 az0000001  HMDB0104053 TG(16:0/a-15:0/i-14:0)[rac] C48H92O6        \n",
       "2 az0000002  HMDB0104054 TG(16:0/i-15:0/14:0)        C48H92O6        \n",
       "3 az0000003  HMDB0104055 TG(i-16:0/15:0/i-14:0)      C48H92O6        \n",
       "4 az0000004  HMDB0104056 TG(16:0/i-15:0/i-14:0)      C48H92O6        \n",
       "5 az0000005  HMDB0104057 TG(i-16:0/i-15:0/14:0)      C48H92O6        \n",
       "6 az0000006  HMDB0104058 TG(i-16:0/i-15:0/i-14:0)    C48H92O6        \n",
       "  monisotopic_molecular_weight kegg_id pubchem_compound_id\n",
       "1 764.6894                             131812190          \n",
       "2 764.6894                                    NA          \n",
       "3 764.6894                             131812192          \n",
       "4 764.6894                             131812193          \n",
       "5 764.6894                             131812194          \n",
       "6 764.6894                             131812195          "
      ]
     },
     "metadata": {},
     "output_type": "display_data"
    },
    {
     "data": {
      "text/html": [
       "<style>\n",
       ".list-inline {list-style: none; margin:0; padding: 0}\n",
       ".list-inline>li {display: inline-block}\n",
       ".list-inline>li:not(:last-child)::after {content: \"\\00b7\"; padding: 0 .5ex}\n",
       "</style>\n",
       "<ol class=list-inline><li>'azimuth_id'</li><li>'accession'</li><li>'name'</li><li>'chemical_formula'</li><li>'monisotopic_molecular_weight'</li><li>'kegg_id'</li><li>'pubchem_compound_id'</li></ol>\n"
      ],
      "text/latex": [
       "\\begin{enumerate*}\n",
       "\\item 'azimuth\\_id'\n",
       "\\item 'accession'\n",
       "\\item 'name'\n",
       "\\item 'chemical\\_formula'\n",
       "\\item 'monisotopic\\_molecular\\_weight'\n",
       "\\item 'kegg\\_id'\n",
       "\\item 'pubchem\\_compound\\_id'\n",
       "\\end{enumerate*}\n"
      ],
      "text/markdown": [
       "1. 'azimuth_id'\n",
       "2. 'accession'\n",
       "3. 'name'\n",
       "4. 'chemical_formula'\n",
       "5. 'monisotopic_molecular_weight'\n",
       "6. 'kegg_id'\n",
       "7. 'pubchem_compound_id'\n",
       "\n",
       "\n"
      ],
      "text/plain": [
       "[1] \"azimuth_id\"                   \"accession\"                   \n",
       "[3] \"name\"                         \"chemical_formula\"            \n",
       "[5] \"monisotopic_molecular_weight\" \"kegg_id\"                     \n",
       "[7] \"pubchem_compound_id\"         "
      ]
     },
     "metadata": {},
     "output_type": "display_data"
    }
   ],
   "source": [
    "# read the mass2chem azimuth compounds list \n",
    "# the accession column is HMDB ACeesion numbers \n",
    "# manually chopped down to have three columns only which I need3d \n",
    "azimuth<-read.delim(\"../mass2chem_source_data/azimuth_id_compounds.tsv\",\n",
    "               sep=\"\\t\", header = TRUE)\n",
    "head(azimuth)\n",
    "colnames(azimuth)\n"
   ]
  },
  {
   "cell_type": "code",
   "execution_count": 12,
   "id": "95a50161",
   "metadata": {},
   "outputs": [
    {
     "data": {
      "text/html": [
       "<style>\n",
       ".list-inline {list-style: none; margin:0; padding: 0}\n",
       ".list-inline>li {display: inline-block}\n",
       ".list-inline>li:not(:last-child)::after {content: \"\\00b7\"; padding: 0 .5ex}\n",
       "</style>\n",
       "<ol class=list-inline><li>114222</li><li>7</li></ol>\n"
      ],
      "text/latex": [
       "\\begin{enumerate*}\n",
       "\\item 114222\n",
       "\\item 7\n",
       "\\end{enumerate*}\n"
      ],
      "text/markdown": [
       "1. 114222\n",
       "2. 7\n",
       "\n",
       "\n"
      ],
      "text/plain": [
       "[1] 114222      7"
      ]
     },
     "metadata": {},
     "output_type": "display_data"
    },
    {
     "data": {
      "text/html": [
       "114222"
      ],
      "text/latex": [
       "114222"
      ],
      "text/markdown": [
       "114222"
      ],
      "text/plain": [
       "[1] 114222"
      ]
     },
     "metadata": {},
     "output_type": "display_data"
    }
   ],
   "source": [
    "#114222 compounds \n",
    "dim(azimuth)\n",
    "length(unique(azimuth$accession))"
   ]
  },
  {
   "cell_type": "code",
   "execution_count": 13,
   "id": "163340c9",
   "metadata": {},
   "outputs": [
    {
     "data": {
      "text/html": [
       "<style>\n",
       ".list-inline {list-style: none; margin:0; padding: 0}\n",
       ".list-inline>li {display: inline-block}\n",
       ".list-inline>li:not(:last-child)::after {content: \"\\00b7\"; padding: 0 .5ex}\n",
       "</style>\n",
       "<ol class=list-inline><li>'omim'</li><li>'dname'</li><li>'smpdb'</li><li>'keggmap'</li><li>'accession'</li><li>'monisotopic_molecular_weight'</li><li>'iupac_name'</li><li>'name'</li><li>'chemical_formula'</li><li>'InChIKey'</li><li>'cas_registry_number'</li><li>'kegg'</li><li>'food'</li><li>'drugbank'</li><li>'drugbankmet'</li><li>'biocyc'</li><li>'pubchem'</li><li>'chemspider'</li><li>'smiles'</li><li>'metlin_id'</li><li>'kingdom'</li><li>'direct_parent'</li><li>'super_class'</li><li>'class'</li><li>'sub_class'</li><li>'molecular_framework'</li><li>'logpexp'</li></ol>\n"
      ],
      "text/latex": [
       "\\begin{enumerate*}\n",
       "\\item 'omim'\n",
       "\\item 'dname'\n",
       "\\item 'smpdb'\n",
       "\\item 'keggmap'\n",
       "\\item 'accession'\n",
       "\\item 'monisotopic\\_molecular\\_weight'\n",
       "\\item 'iupac\\_name'\n",
       "\\item 'name'\n",
       "\\item 'chemical\\_formula'\n",
       "\\item 'InChIKey'\n",
       "\\item 'cas\\_registry\\_number'\n",
       "\\item 'kegg'\n",
       "\\item 'food'\n",
       "\\item 'drugbank'\n",
       "\\item 'drugbankmet'\n",
       "\\item 'biocyc'\n",
       "\\item 'pubchem'\n",
       "\\item 'chemspider'\n",
       "\\item 'smiles'\n",
       "\\item 'metlin\\_id'\n",
       "\\item 'kingdom'\n",
       "\\item 'direct\\_parent'\n",
       "\\item 'super\\_class'\n",
       "\\item 'class'\n",
       "\\item 'sub\\_class'\n",
       "\\item 'molecular\\_framework'\n",
       "\\item 'logpexp'\n",
       "\\end{enumerate*}\n"
      ],
      "text/markdown": [
       "1. 'omim'\n",
       "2. 'dname'\n",
       "3. 'smpdb'\n",
       "4. 'keggmap'\n",
       "5. 'accession'\n",
       "6. 'monisotopic_molecular_weight'\n",
       "7. 'iupac_name'\n",
       "8. 'name'\n",
       "9. 'chemical_formula'\n",
       "10. 'InChIKey'\n",
       "11. 'cas_registry_number'\n",
       "12. 'kegg'\n",
       "13. 'food'\n",
       "14. 'drugbank'\n",
       "15. 'drugbankmet'\n",
       "16. 'biocyc'\n",
       "17. 'pubchem'\n",
       "18. 'chemspider'\n",
       "19. 'smiles'\n",
       "20. 'metlin_id'\n",
       "21. 'kingdom'\n",
       "22. 'direct_parent'\n",
       "23. 'super_class'\n",
       "24. 'class'\n",
       "25. 'sub_class'\n",
       "26. 'molecular_framework'\n",
       "27. 'logpexp'\n",
       "\n",
       "\n"
      ],
      "text/plain": [
       " [1] \"omim\"                         \"dname\"                       \n",
       " [3] \"smpdb\"                        \"keggmap\"                     \n",
       " [5] \"accession\"                    \"monisotopic_molecular_weight\"\n",
       " [7] \"iupac_name\"                   \"name\"                        \n",
       " [9] \"chemical_formula\"             \"InChIKey\"                    \n",
       "[11] \"cas_registry_number\"          \"kegg\"                        \n",
       "[13] \"food\"                         \"drugbank\"                    \n",
       "[15] \"drugbankmet\"                  \"biocyc\"                      \n",
       "[17] \"pubchem\"                      \"chemspider\"                  \n",
       "[19] \"smiles\"                       \"metlin_id\"                   \n",
       "[21] \"kingdom\"                      \"direct_parent\"               \n",
       "[23] \"super_class\"                  \"class\"                       \n",
       "[25] \"sub_class\"                    \"molecular_framework\"         \n",
       "[27] \"logpexp\"                     "
      ]
     },
     "metadata": {},
     "output_type": "display_data"
    },
    {
     "data": {
      "text/html": [
       "114215"
      ],
      "text/latex": [
       "114215"
      ],
      "text/markdown": [
       "114215"
      ],
      "text/plain": [
       "[1] 114215"
      ]
     },
     "metadata": {},
     "output_type": "display_data"
    }
   ],
   "source": [
    "#read the full HMDB File v4  that i craeted from fullhmdb XML processing \n",
    "hmdb_full<-read.csv(\"full_hmdb_v4.csv\", header=TRUE)\n",
    "colnames(hmdb_full)\n",
    "length(unique(hmdb_full$accession))"
   ]
  },
  {
   "cell_type": "code",
   "execution_count": 14,
   "id": "564bc01f",
   "metadata": {},
   "outputs": [
    {
     "data": {
      "text/html": [
       "114215"
      ],
      "text/latex": [
       "114215"
      ],
      "text/markdown": [
       "114215"
      ],
      "text/plain": [
       "[1] 114215"
      ]
     },
     "metadata": {},
     "output_type": "display_data"
    }
   ],
   "source": [
    "hmdb_full<-hmdb_full%>%dplyr::select(\"accession\", \"kingdom\", \"direct_parent\",\"super_class\",\n",
    "                                     \"class\" ,  \"sub_class\" )\n",
    "\n",
    "length(intersect(azimuth$accession, hmdb_full$accession))\n"
   ]
  },
  {
   "cell_type": "code",
   "execution_count": 15,
   "id": "7db2db22",
   "metadata": {},
   "outputs": [],
   "source": [
    "FT2<-left_join(azimuth, hmdb_full, by = \"accession\")\n",
    "\n",
    "write.table(FT2, file = \"azimuth_id_compounds_extended_v4HMDB.tsv\", sep = \"\\t\", row.names = FALSE)"
   ]
  },
  {
   "cell_type": "code",
   "execution_count": null,
   "id": "899e75b3",
   "metadata": {},
   "outputs": [],
   "source": []
  }
 ],
 "metadata": {
  "kernelspec": {
   "display_name": "R",
   "language": "R",
   "name": "ir"
  },
  "language_info": {
   "codemirror_mode": "r",
   "file_extension": ".r",
   "mimetype": "text/x-r-source",
   "name": "R",
   "pygments_lexer": "r",
   "version": "4.1.0"
  }
 },
 "nbformat": 4,
 "nbformat_minor": 5
}
