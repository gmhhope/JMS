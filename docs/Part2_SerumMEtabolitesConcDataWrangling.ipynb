{
 "cells": [
  {
   "cell_type": "markdown",
   "id": "242f4d60",
   "metadata": {},
   "source": [
    "### Data Wrangling Serum _metabolites concentration values  Part 2: \n",
    "Amnah Siddiqa ; 13-08-2021\n",
    "\n",
    "- Input Table: serum_metabolites_concentrations.csv coming from Part1 python Notebook \n",
    "- output Table: serum_metabolites_convalues_unique.csv\n",
    "\n",
    "### Summary: \n",
    "- starting from 11076 values ; we end up with one value against each HMDB id having 2753 unique (HMDB) ids having a blood concentration value in total at the end ;\n",
    "\n"
   ]
  },
  {
   "cell_type": "code",
   "execution_count": 4,
   "id": "0aabc7cd",
   "metadata": {},
   "outputs": [],
   "source": [
    "#library(dplyr)\n",
    "#load libraries \n",
    "shhh <- suppressPackageStartupMessages # It's a library, so shhh!\n",
    "shhh(library(tidyverse))\n"
   ]
  },
  {
   "cell_type": "code",
   "execution_count": 6,
   "id": "e76c1818",
   "metadata": {},
   "outputs": [
    {
     "name": "stderr",
     "output_type": "stream",
     "text": [
      "Warning message:\n",
      "“Expected 1 pieces. Additional pieces discarded in 7947 rows [1, 2, 3, 4, 5, 6, 7, 8, 9, 10, 11, 12, 14, 15, 16, 17, 18, 19, 20, 21, ...].”\n",
      "Warning message:\n",
      "“Expected 1 pieces. Additional pieces discarded in 7663 rows [1, 2, 3, 4, 5, 6, 7, 8, 9, 10, 11, 13, 15, 16, 17, 18, 19, 20, 21, 24, ...].”\n",
      "Warning message in eval(expr, envir, enclos):\n",
      "“NAs introduced by coercion”\n"
     ]
    },
    {
     "name": "stdout",
     "output_type": "stream",
     "text": [
      "'data.frame':\t9226 obs. of  10 variables:\n",
      " $ X                  : int  0 1 2 3 4 5 6 7 8 9 ...\n",
      " $ HMDB_accession     : chr  \"HMDB0000001\" \"HMDB0000001\" \"HMDB0000001\" \"HMDB0000001\" ...\n",
      " $ biospecimen        : chr  \"Blood\" \"Blood\" \"Blood\" \"Blood\" ...\n",
      " $ value              : num  7.7 14.4 19.6 12.7 20.2 9.1 4 0.04 3.33 9.4 ...\n",
      " $ concentration_units: chr  \"uM\" \"uM\" \"uM\" \"uM\" ...\n",
      " $ subject_age        : chr  \"Adult (>18 years old)\" \"Adult (>18 years old)\" \"Adult (>18 years old)\" \"Adult (>18 years old)\" ...\n",
      " $ subject_sex        : chr  \"Both\" \"Both\" \"Both\" \"Both\" ...\n",
      " $ subject_condition  : chr  \"Normal\" \"Normal\" \"Normal\" \"Normal\" ...\n",
      " $ reference_text     : chr  \"Dohm GL, Williams RT, Kasperek GJ, van Rij AM: Increased excretion of urea and N tau -methylhistidine by rats a\"| __truncated__ \"Dohm GL, Williams RT, Kasperek GJ, van Rij AM: Increased excretion of urea and N tau -methylhistidine by rats a\"| __truncated__ \"Dohm GL, Williams RT, Kasperek GJ, van Rij AM: Increased excretion of urea and N tau -methylhistidine by rats a\"| __truncated__ \"Dohm GL, Williams RT, Kasperek GJ, van Rij AM: Increased excretion of urea and N tau -methylhistidine by rats a\"| __truncated__ ...\n",
      " $ pubmed_id          : logi  NA NA NA NA NA NA ...\n"
     ]
    },
    {
     "data": {
      "text/html": [
       "2753"
      ],
      "text/latex": [
       "2753"
      ],
      "text/markdown": [
       "2753"
      ],
      "text/plain": [
       "[1] 2753"
      ]
     },
     "metadata": {},
     "output_type": "display_data"
    },
    {
     "ename": "ERROR",
     "evalue": "Error in serum.metabolites.head(): could not find function \"serum.metabolites.head\"\n",
     "output_type": "error",
     "traceback": [
      "Error in serum.metabolites.head(): could not find function \"serum.metabolites.head\"\nTraceback:\n"
     ]
    }
   ],
   "source": [
    "\n",
    "serum.metabolites<-read.csv (\"output/serum_metabolites_concentrations.csv\")\n",
    "#11076 rows\n",
    "\n",
    "\n",
    "#remove all the empty lines in value column ; which exists because the publications exists for the Not Quantifoed cell value; see e.g. HMDB0000008\n",
    "serum.metabolites<-serum.metabolites[!(serum.metabolites$concentration_value == \"\"), ]\n",
    "\n",
    "#separate concentration values column based on multiple delimiters \n",
    "#first +/-\n",
    "serum.metabolites<-serum.metabolites %>% separate(col=concentration_value, into=\"value\", sep = \"(?=\\\\+|-)\")\n",
    "\n",
    "#second based on parentheses (\n",
    "serum.metabolites<-serum.metabolites %>% separate(col=value, into=\"value\", sep = \"\\\\(| ()\")\n",
    "\n",
    "#third remove > \n",
    "serum.metabolites<-serum.metabolites%>%\n",
    "                    mutate(value= str_remove_all(value , \"<\"))\n",
    "\n",
    "\n",
    "serum.metabolites$value<-as.numeric(as.character(serum.metabolites$value))\n",
    "str(serum.metabolites)\n",
    "\n",
    "#convert back to decimals instaed of scientific notations  \n",
    "options(scipen = 999)\n",
    "\n",
    "serum.metabolites<-serum.metabolites%>%\n",
    "                    group_by(HMDB_accession)%>% \n",
    "                    mutate(Med=median(value))%>%\n",
    "                    dplyr::select( HMDB_accession, Med)\n",
    "\n",
    "\n",
    "serum.metabolites= serum.metabolites[!duplicated(serum.metabolites$HMDB_accession),]\n",
    "length(unique(serum.metabolites$HMDB_accession))\n",
    "#2753\n",
    "\n",
    "\n",
    "write.csv(serum.metabolites, \"Output/serum_metabolites_convalues_unique.csv\", row.names = FALSE)\n"
   ]
  },
  {
   "cell_type": "code",
   "execution_count": 7,
   "id": "e2d3c663",
   "metadata": {},
   "outputs": [
    {
     "data": {
      "text/html": [
       "<table class=\"dataframe\">\n",
       "<caption>A grouped_df: 6 × 2</caption>\n",
       "<thead>\n",
       "\t<tr><th scope=col>HMDB_accession</th><th scope=col>Med</th></tr>\n",
       "\t<tr><th scope=col>&lt;chr&gt;</th><th scope=col>&lt;dbl&gt;</th></tr>\n",
       "</thead>\n",
       "<tbody>\n",
       "\t<tr><td>HMDB0000001</td><td>12.70</td></tr>\n",
       "\t<tr><td>HMDB0000002</td><td> 0.04</td></tr>\n",
       "\t<tr><td>HMDB0000005</td><td> 8.60</td></tr>\n",
       "\t<tr><td>HMDB0000008</td><td>17.45</td></tr>\n",
       "\t<tr><td>HMDB0000011</td><td>86.00</td></tr>\n",
       "\t<tr><td>HMDB0000012</td><td> 0.15</td></tr>\n",
       "</tbody>\n",
       "</table>\n"
      ],
      "text/latex": [
       "A grouped\\_df: 6 × 2\n",
       "\\begin{tabular}{ll}\n",
       " HMDB\\_accession & Med\\\\\n",
       " <chr> & <dbl>\\\\\n",
       "\\hline\n",
       "\t HMDB0000001 & 12.70\\\\\n",
       "\t HMDB0000002 &  0.04\\\\\n",
       "\t HMDB0000005 &  8.60\\\\\n",
       "\t HMDB0000008 & 17.45\\\\\n",
       "\t HMDB0000011 & 86.00\\\\\n",
       "\t HMDB0000012 &  0.15\\\\\n",
       "\\end{tabular}\n"
      ],
      "text/markdown": [
       "\n",
       "A grouped_df: 6 × 2\n",
       "\n",
       "| HMDB_accession &lt;chr&gt; | Med &lt;dbl&gt; |\n",
       "|---|---|\n",
       "| HMDB0000001 | 12.70 |\n",
       "| HMDB0000002 |  0.04 |\n",
       "| HMDB0000005 |  8.60 |\n",
       "| HMDB0000008 | 17.45 |\n",
       "| HMDB0000011 | 86.00 |\n",
       "| HMDB0000012 |  0.15 |\n",
       "\n"
      ],
      "text/plain": [
       "  HMDB_accession Med  \n",
       "1 HMDB0000001    12.70\n",
       "2 HMDB0000002     0.04\n",
       "3 HMDB0000005     8.60\n",
       "4 HMDB0000008    17.45\n",
       "5 HMDB0000011    86.00\n",
       "6 HMDB0000012     0.15"
      ]
     },
     "metadata": {},
     "output_type": "display_data"
    }
   ],
   "source": [
    "head(serum.metabolites)"
   ]
  }
 ],
 "metadata": {
  "kernelspec": {
   "display_name": "R",
   "language": "R",
   "name": "ir"
  },
  "language_info": {
   "codemirror_mode": "r",
   "file_extension": ".r",
   "mimetype": "text/x-r-source",
   "name": "R",
   "pygments_lexer": "r",
   "version": "4.1.0"
  }
 },
 "nbformat": 4,
 "nbformat_minor": 5
}
