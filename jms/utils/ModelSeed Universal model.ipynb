{
 "cells": [
  {
   "cell_type": "markdown",
   "metadata": {},
   "source": [
    "# ModelSeed universal model\n",
    "- 2022-04-14\n",
    "- Minghao Gong"
   ]
  },
  {
   "cell_type": "code",
   "execution_count": 55,
   "metadata": {},
   "outputs": [],
   "source": [
    "import requests\n",
    "import json\n",
    "import os\n",
    "import pandas as pd"
   ]
  },
  {
   "cell_type": "code",
   "execution_count": 46,
   "metadata": {},
   "outputs": [],
   "source": [
    "try:\n",
    "    os.mkdir(\"../output/ModelSeed/\")\n",
    "except:\n",
    "    None\n",
    "try:\n",
    "    os.mkdir(\"../input/ModelSeed/\")\n",
    "except:\n",
    "    None"
   ]
  },
  {
   "cell_type": "code",
   "execution_count": 47,
   "metadata": {},
   "outputs": [],
   "source": [
    "# r = requests.get(\"https://github.com/ModelSEED/ModelSEEDDatabase/blob/master/Biochemistry/Pathways/HopeScenarios.txt?raw=True\")\n",
    "# with open(\"../input/ModelSeed/HopeScenarios.txt\", \"w\") as f:\n",
    "#     f.write(r.text)\n",
    "\n",
    "# r = requests.get(\"https://github.com/ModelSEED/ModelSEEDDatabase/blob/master/Biochemistry/Pathways/KEGG.pathways?raw=True\")\n",
    "# with open(\"../input/ModelSeed/KEGG.pathways\", \"w\") as f:\n",
    "#     f.write(r.text)\n",
    "\n",
    "# r = requests.get(\"https://github.com/ModelSEED/ModelSEEDDatabase/blob/master/Biochemistry/Pathways/plantdefault.pathways.tsv?raw=True\")\n",
    "# with open(\"../input/ModelSeed/plantdefault.pathways.tsv\", \"w\") as f:\n",
    "#     f.write(r.text)"
   ]
  },
  {
   "cell_type": "markdown",
   "metadata": {},
   "source": [
    "## pathway request"
   ]
  },
  {
   "cell_type": "code",
   "execution_count": 49,
   "metadata": {},
   "outputs": [],
   "source": [
    "r = requests.get(\"https://github.com/ModelSEED/ModelSEEDDatabase/blob/master/Biochemistry/Pathways/ModelSEED_Subsystems.tsv?raw=True\")\n",
    "with open(\"../input/ModelSeed/ModelSEED_Subsystems.tsv\", \"w\") as f:\n",
    "    f.write(r.text)"
   ]
  },
  {
   "cell_type": "markdown",
   "metadata": {},
   "source": [
    "## compounds request"
   ]
  },
  {
   "cell_type": "code",
   "execution_count": 51,
   "metadata": {},
   "outputs": [],
   "source": [
    "r = requests.get(\"https://github.com/ModelSEED/ModelSEEDDatabase/blob/master/Biochemistry/compounds.tsv?raw=True\")\n",
    "with open(\"../input/ModelSeed/compounds.tsv\", \"w\") as f:\n",
    "    f.write(r.text)"
   ]
  },
  {
   "cell_type": "code",
   "execution_count": 61,
   "metadata": {},
   "outputs": [],
   "source": [
    "r = requests.get(\"https://github.com/ModelSEED/ModelSEEDDatabase/blob/master/Biochemistry/compounds.json?raw=True\")\n",
    "with open(\"../input/ModelSeed/compounds.json\", \"w\") as f:\n",
    "    f.write(r.text)"
   ]
  },
  {
   "cell_type": "markdown",
   "metadata": {},
   "source": [
    "## reactions request"
   ]
  },
  {
   "cell_type": "code",
   "execution_count": 53,
   "metadata": {},
   "outputs": [],
   "source": [
    "r = requests.get(\"https://github.com/ModelSEED/ModelSEEDDatabase/blob/master/Biochemistry/reactions.tsv?raw=True\")\n",
    "with open(\"../input/ModelSeed/reactions.tsv\", \"w\") as f:\n",
    "    f.write(r.text)"
   ]
  },
  {
   "cell_type": "code",
   "execution_count": 76,
   "metadata": {},
   "outputs": [],
   "source": [
    "r = requests.get(\"https://github.com/ModelSEED/ModelSEEDDatabase/blob/master/Biochemistry/reactions.json?raw=True\")\n",
    "with open(\"../input/ModelSeed/reactions.json\", \"w\") as f:\n",
    "    f.write(r.text)"
   ]
  },
  {
   "cell_type": "code",
   "execution_count": 62,
   "metadata": {},
   "outputs": [],
   "source": [
    "cpd_df = pd.read_csv(\"../input/ModelSeed/compounds.tsv\", sep = \"\\t\") # using json formatted compound table for parsing\n",
    "rxn_df = pd.read_csv(\"../input/ModelSeed/reactions.tsv\", sep = '\\t')\n",
    "pwy_df = pd.read_csv(\"../input/ModelSeed/ModelSEED_Subsystems.tsv\", sep = '\\t')"
   ]
  },
  {
   "cell_type": "code",
   "execution_count": 67,
   "metadata": {},
   "outputs": [
    {
     "data": {
      "text/plain": [
       "(33992, 21)"
      ]
     },
     "execution_count": 67,
     "metadata": {},
     "output_type": "execute_result"
    }
   ],
   "source": [
    "cpd_df.shape # matched with the json format! So using json is fine!"
   ]
  },
  {
   "cell_type": "code",
   "execution_count": 77,
   "metadata": {},
   "outputs": [
    {
     "data": {
      "text/plain": [
       "(43774, 22)"
      ]
     },
     "execution_count": 77,
     "metadata": {},
     "output_type": "execute_result"
    }
   ],
   "source": [
    "rxn_df.shape # matched with the json format! So using json is fine!"
   ]
  },
  {
   "cell_type": "code",
   "execution_count": 64,
   "metadata": {},
   "outputs": [],
   "source": [
    "with open(\"../input/ModelSeed/compounds.json\", \"r\") as f:\n",
    "    cpd_list = json.load(f)"
   ]
  },
  {
   "cell_type": "code",
   "execution_count": 78,
   "metadata": {},
   "outputs": [],
   "source": [
    "with open(\"../input/ModelSeed/reactions.json\", \"r\") as f:\n",
    "    rxn_list = json.load(f)"
   ]
  },
  {
   "cell_type": "code",
   "execution_count": 79,
   "metadata": {},
   "outputs": [
    {
     "data": {
      "text/plain": [
       "43774"
      ]
     },
     "execution_count": 79,
     "metadata": {},
     "output_type": "execute_result"
    }
   ],
   "source": [
    "len(rxn_list)"
   ]
  },
  {
   "cell_type": "markdown",
   "metadata": {},
   "source": [
    "----"
   ]
  },
  {
   "cell_type": "code",
   "execution_count": 161,
   "metadata": {},
   "outputs": [],
   "source": [
    "import sys\n",
    "from metDataModel.core import Compound, Reaction, Pathway, MetabolicModel\n",
    "sys.path.append(\"/Users/gongm/Documents/projects/mass2chem/\")\n",
    "sys.path.append(\"/Users/gongm/Documents/projects/JMS/JMS/jms/\")\n",
    "import mass2chem\n",
    "from jms import formula"
   ]
  },
  {
   "cell_type": "markdown",
   "metadata": {},
   "source": [
    "# Porting compounds"
   ]
  },
  {
   "cell_type": "code",
   "execution_count": 158,
   "metadata": {},
   "outputs": [
    {
     "data": {
      "text/plain": [
       "{'internal_id': 'cpd37302',\n",
       " 'id': 'cpd37302',\n",
       " 'name': '2-methylene-alpha-oxocyclopropanepropanoic acid; 3-(2-methylidenecyclopropyl)-2-oxopropanoic acid; beta-methylenecyclopropyl pyruvate; ketohypoglycin; methylenecyclopropylpyruvate',\n",
       " 'db_ids': [('BrachyCyc', 'CPD-9739'),\n",
       "  ('MaizeCyc', 'CPD-9739'),\n",
       "  ('MetaCyc', 'CPD-9739'),\n",
       "  ('PlantCyc', 'CPD-9739'),\n",
       "  ('inchikey', 'IKTGVEIOCJLOFU-UHFFFAOYSA-M')],\n",
       " 'neutral_formula': '',\n",
       " 'neutral_mono_mass': 0.0,\n",
       " 'charge': -1,\n",
       " 'charged_formula': 'C7H7O3',\n",
       " 'SMILES': 'C=C1CC1CC(=O)C(=O)[O-]',\n",
       " 'inchi': '',\n",
       " 'abbreviation': '2-methylene-alpha-oxocyclopropanepropanoic acid'}"
      ]
     },
     "execution_count": 158,
     "metadata": {},
     "output_type": "execute_result"
    }
   ],
   "source": [
    "cpd.__dict__"
   ]
  },
  {
   "cell_type": "code",
   "execution_count": 172,
   "metadata": {},
   "outputs": [],
   "source": [
    "myCpdlist = []\n",
    "for seedCpd in cpd_list:\n",
    "    cpd = Compound()\n",
    "    cpd.abbreviation = seedCpd['abbreviation']\n",
    "    cpd.id = seedCpd['id']\n",
    "    cpd.internal_id = cpd.id\n",
    "    cpd.db_ids = []\n",
    "    try:\n",
    "        for item in seedCpd['aliases']:\n",
    "            record = tuple(item.split(\": \"))\n",
    "            if record[0] == \"Name\":\n",
    "                cpd.name = record[1]\n",
    "            else:\n",
    "                cpd.db_ids.append(record)\n",
    "    except:\n",
    "        None\n",
    "    cpd.db_ids.append(('inchikey',seedCpd['inchikey']))\n",
    "    cpd.charge = seedCpd['charge']\n",
    "    cpd.charged_formula = seedCpd['formula']\n",
    "    cpd.SMILES = seedCpd['smiles']\n",
    "    \n",
    "    try:\n",
    "        cpd.neutral_formula = formula.adjust_charge_in_formula(cpd.charged_formula,cpd.charge)\n",
    "    except:\n",
    "        cpd.neutral_formula = ''\n",
    "    try:\n",
    "        cpd.neutral_mono_mass = round(mass2chem.formula.calculate_formula_mass(cpd.neutral_formula),6)\n",
    "    except:\n",
    "        cpd.neutral_mono_mass = 0\n",
    "    myCpdlist.append(cpd)"
   ]
  },
  {
   "cell_type": "code",
   "execution_count": 173,
   "metadata": {
    "scrolled": false
   },
   "outputs": [
    {
     "data": {
      "text/plain": [
       "33992"
      ]
     },
     "execution_count": 173,
     "metadata": {},
     "output_type": "execute_result"
    }
   ],
   "source": [
    "len(myCpdlist)"
   ]
  },
  {
   "cell_type": "code",
   "execution_count": 177,
   "metadata": {
    "scrolled": true
   },
   "outputs": [
    {
     "data": {
      "text/plain": [
       "[{'internal_id': 'cpd00001',\n",
       "  'id': 'cpd00001',\n",
       "  'name': 'H20; H2O; H3O+; HO-; Hydroxide ion; OH; OH-; Water; hydrogen oxide; hydroxide; hydroxide ion; hydroxyl; hydroxyl ion; oxonium; water',\n",
       "  'db_ids': [('AraCyc', 'OH; WATER'),\n",
       "   ('BiGG', 'h2o; oh1'),\n",
       "   ('BrachyCyc', 'WATER'),\n",
       "   ('KEGG', 'C00001; C01328'),\n",
       "   ('MetaCyc', 'OH; OXONIUM; WATER'),\n",
       "   ('inchikey', 'XLYOFNOQVPJJNP-UHFFFAOYSA-N')],\n",
       "  'neutral_formula': 'H2O',\n",
       "  'neutral_mono_mass': 18.010565,\n",
       "  'charge': 0,\n",
       "  'charged_formula': 'H2O',\n",
       "  'SMILES': 'O',\n",
       "  'inchi': '',\n",
       "  'abbreviation': 'h2o'},\n",
       " {'internal_id': 'cpd00002',\n",
       "  'id': 'cpd00002',\n",
       "  'name': \"ATP; Adenosine 5'-triphosphate; adenosine-5'-triphosphate; adenosine-triphosphate; adenylpyrophosphate\",\n",
       "  'db_ids': [('AraCyc', 'ATP'),\n",
       "   ('BiGG', 'atp'),\n",
       "   ('BrachyCyc', 'ATP'),\n",
       "   ('KEGG', 'C00002'),\n",
       "   ('MetaCyc', 'ATP'),\n",
       "   ('inchikey', 'ZKHQWZAMYRWXGA-KQYNXXCUSA-K')],\n",
       "  'neutral_formula': 'C10H16N5O13P3',\n",
       "  'neutral_mono_mass': 506.995747,\n",
       "  'charge': -3,\n",
       "  'charged_formula': 'C10H13N5O13P3',\n",
       "  'SMILES': 'Nc1ncnc2c1ncn2[C@@H]1O[C@H](COP(=O)([O-])OP(=O)([O-])OP(=O)([O-])O)[C@@H](O)[C@H]1O',\n",
       "  'inchi': '',\n",
       "  'abbreviation': 'atp'}]"
      ]
     },
     "execution_count": 177,
     "metadata": {},
     "output_type": "execute_result"
    }
   ],
   "source": [
    "[x.__dict__ for x in myCpdlist[:2]]"
   ]
  },
  {
   "cell_type": "markdown",
   "metadata": {},
   "source": [
    "# Porting reactions"
   ]
  },
  {
   "cell_type": "code",
   "execution_count": 75,
   "metadata": {},
   "outputs": [
    {
     "data": {
      "text/plain": [
       "{'azimuth_id': '',\n",
       " 'id': '',\n",
       " 'source': [],\n",
       " 'version': '',\n",
       " 'status': '',\n",
       " 'reactants': [],\n",
       " 'products': [],\n",
       " 'enzymes': [],\n",
       " 'genes': [],\n",
       " 'pathways': [],\n",
       " 'ontologies': [],\n",
       " 'species': '',\n",
       " 'compartments': [],\n",
       " 'cell_types': [],\n",
       " 'tissues': []}"
      ]
     },
     "execution_count": 75,
     "metadata": {},
     "output_type": "execute_result"
    }
   ],
   "source": [
    "rxn = Reaction()\n",
    "rxn.__dict__"
   ]
  },
  {
   "cell_type": "code",
   "execution_count": 102,
   "metadata": {},
   "outputs": [
    {
     "data": {
      "text/plain": [
       "{'abbreviation': 'R00004',\n",
       " 'abstract_reaction': None,\n",
       " 'aliases': ['AraCyc: INORGPYROPHOSPHAT-RXN',\n",
       "  'BiGG: IPP1; PPA; PPA_1; PPAm',\n",
       "  'BrachyCyc: INORGPYROPHOSPHAT-RXN',\n",
       "  'KEGG: R00004',\n",
       "  'MetaCyc: INORGPYROPHOSPHAT-RXN',\n",
       "  'Name: Diphosphate phosphohydrolase; Inorganic diphosphatase; Inorganic pyrophosphatase; Pyrophosphate phosphohydrolase; diphosphate phosphohydrolase; inorganic diphosphatase; inorganic diphosphatase (one proton translocation); inorganicdiphosphatase; pyrophosphate phosphohydrolase'],\n",
       " 'code': '(1) cpd00001[0] + (1) cpd00012[0] <=> (2) cpd00009[0]',\n",
       " 'compound_ids': 'cpd00001;cpd00009;cpd00012;cpd00067',\n",
       " 'definition': '(1) H2O[0] + (1) PPi[0] <=> (2) Phosphate[0] + (1) H+[0]',\n",
       " 'deltag': -3.46,\n",
       " 'deltagerr': 0.05,\n",
       " 'direction': '=',\n",
       " 'ec_numbers': ['3.6.1.1'],\n",
       " 'equation': '(1) cpd00001[0] + (1) cpd00012[0] <=> (2) cpd00009[0] + (1) cpd00067[0]',\n",
       " 'id': 'rxn00001',\n",
       " 'is_obsolete': 0,\n",
       " 'is_transport': 0,\n",
       " 'linked_reaction': 'rxn27946;rxn27947;rxn27948;rxn32487;rxn38157;rxn38158',\n",
       " 'name': 'diphosphate phosphohydrolase',\n",
       " 'notes': ['GCC', 'HB', 'EQC', 'EQU'],\n",
       " 'pathways': ['MetaCyc: Degradation (Degradation/Utilization/Assimilation); Glyphosate-Degradation (glyphosate degradation); Noncarbon-Nutrients (Inorganic Nutrient Metabolism); PWY-7805 ((aminomethyl)phosphonate degradation); PWY-7807 (glyphosate degradation III); Phosphorus-Compounds (Phosphorus Compound Metabolism)'],\n",
       " 'reversibility': '>',\n",
       " 'source': 'Primary Database',\n",
       " 'status': 'OK',\n",
       " 'stoichiometry': '-1:cpd00001:0:0:\"H2O\";-1:cpd00012:0:0:\"PPi\";2:cpd00009:0:0:\"Phosphate\";1:cpd00067:0:0:\"H+\"'}"
      ]
     },
     "execution_count": 102,
     "metadata": {},
     "output_type": "execute_result"
    }
   ],
   "source": [
    "rxn_list[0]"
   ]
  },
  {
   "cell_type": "code",
   "execution_count": 101,
   "metadata": {},
   "outputs": [
    {
     "data": {
      "text/plain": [
       "dict_keys(['abbreviation', 'abstract_reaction', 'aliases', 'code', 'compound_ids', 'definition', 'deltag', 'deltagerr', 'direction', 'ec_numbers', 'equation', 'id', 'is_obsolete', 'is_transport', 'linked_reaction', 'name', 'notes', 'pathways', 'reversibility', 'source', 'status', 'stoichiometry'])"
      ]
     },
     "execution_count": 101,
     "metadata": {},
     "output_type": "execute_result"
    }
   ],
   "source": [
    "rxn_list[0].keys()"
   ]
  },
  {
   "cell_type": "code",
   "execution_count": 89,
   "metadata": {},
   "outputs": [],
   "source": [
    "test = rxn_list[10]['code']"
   ]
  },
  {
   "cell_type": "code",
   "execution_count": 91,
   "metadata": {},
   "outputs": [
    {
     "data": {
      "text/plain": [
       "'(2) cpd00076[0] <=> (1) cpd00027[0] + (1) cpd02298[0]'"
      ]
     },
     "execution_count": 91,
     "metadata": {},
     "output_type": "execute_result"
    }
   ],
   "source": [
    "rxn_list[10]['code']"
   ]
  },
  {
   "cell_type": "code",
   "execution_count": 94,
   "metadata": {},
   "outputs": [],
   "source": [
    "import re\n",
    "def extract_compounds(equation_code):\n",
    "    [reactant_str, product_str] = equation_code.split(\"=\")\n",
    "    reactants = re.findall(r'\\) (cpd\\d+)\\[',reactant_str)\n",
    "    products = re.findall(r'\\) (cpd\\d+)\\[',product_str)\n",
    "    return(reactants,products)\n",
    "\n",
    "reactants, products = extract_compounds(rxn_list[10]['code'])"
   ]
  },
  {
   "cell_type": "code",
   "execution_count": 110,
   "metadata": {},
   "outputs": [],
   "source": [
    "def port_reaction(R):\n",
    "    new = Reaction()\n",
    "    new.id = R['id']\n",
    "    reactants, products = extract_compounds(R['code'])\n",
    "    new.reactants = reactants \n",
    "    new.products = products\n",
    "    if R['ec_numbers']:\n",
    "        if \"|\" in R['ec_numbers']:\n",
    "            new.enzymes = ecs.split(\"|\")\n",
    "        else:\n",
    "            new.enzymes = R['ec_numbers']       # this version of human-GEM may have it as string\n",
    "    return new\n"
   ]
  },
  {
   "cell_type": "code",
   "execution_count": 115,
   "metadata": {},
   "outputs": [],
   "source": [
    "myRxnlist = []\n",
    "for R in rxn_list: \n",
    "    if R['is_transport']==0: # remove the transportation reactions\n",
    "        myRxnlist.append(port_reaction(R))"
   ]
  },
  {
   "cell_type": "code",
   "execution_count": 116,
   "metadata": {},
   "outputs": [
    {
     "name": "stdout",
     "output_type": "stream",
     "text": [
      "There are 38269 true reactions without considering transport in 43774 reactions\n"
     ]
    }
   ],
   "source": [
    "print(f'There are {len(myRxnlist)} true reactions without considering transport in {len(rxn_list)} reactions')"
   ]
  },
  {
   "cell_type": "markdown",
   "metadata": {},
   "source": [
    "----"
   ]
  },
  {
   "cell_type": "markdown",
   "metadata": {},
   "source": [
    "# Port pathways"
   ]
  },
  {
   "cell_type": "code",
   "execution_count": 118,
   "metadata": {
    "scrolled": true
   },
   "outputs": [
    {
     "data": {
      "text/plain": [
       "{'azimuth_id': '',\n",
       " 'id': '',\n",
       " 'name': '',\n",
       " 'source': [],\n",
       " 'list_of_reactions': [],\n",
       " 'status': ''}"
      ]
     },
     "execution_count": 118,
     "metadata": {},
     "output_type": "execute_result"
    }
   ],
   "source": [
    "pwy = Pathway()\n",
    "pwy.__dict__"
   ]
  },
  {
   "cell_type": "code",
   "execution_count": 151,
   "metadata": {
    "scrolled": false
   },
   "outputs": [],
   "source": [
    "subsys2reactions_dict = pwy_df.groupby('Sub-class')['Reaction'].apply(list).to_dict()"
   ]
  },
  {
   "cell_type": "code",
   "execution_count": 152,
   "metadata": {},
   "outputs": [],
   "source": [
    "def generateMSPwy(number):\n",
    "    res = \"MSPwy\" + str(number).zfill(4)\n",
    "    return(res)"
   ]
  },
  {
   "cell_type": "code",
   "execution_count": 153,
   "metadata": {},
   "outputs": [
    {
     "data": {
      "text/plain": [
       "{'azimuth_id': '',\n",
       " 'id': '',\n",
       " 'name': '',\n",
       " 'source': [],\n",
       " 'list_of_reactions': [],\n",
       " 'status': ''}"
      ]
     },
     "execution_count": 153,
     "metadata": {},
     "output_type": "execute_result"
    }
   ],
   "source": [
    "path_test = Pathway();path_test.__dict__"
   ]
  },
  {
   "cell_type": "code",
   "execution_count": 156,
   "metadata": {},
   "outputs": [],
   "source": [
    "mysubsyslist = []\n",
    "i = 1\n",
    "for k,v in subsys2reactions_dict.items():\n",
    "    new = Pathway()\n",
    "    new.id = generateMSPwy(i)\n",
    "    new.name = k\n",
    "    new.source = \"ModelSeed\"\n",
    "    new.list_of_reactions = v\n",
    "    new.status: \"testing\"\n",
    "\n",
    "    i +=1\n",
    "    mysubsyslist.append(new)"
   ]
  },
  {
   "cell_type": "code",
   "execution_count": 157,
   "metadata": {
    "scrolled": true
   },
   "outputs": [
    {
     "data": {
      "text/plain": [
       "143"
      ]
     },
     "execution_count": 157,
     "metadata": {},
     "output_type": "execute_result"
    }
   ],
   "source": [
    "len(mysubsyslist)"
   ]
  },
  {
   "cell_type": "markdown",
   "metadata": {},
   "source": [
    "# Collect data and output "
   ]
  },
  {
   "cell_type": "code",
   "execution_count": 178,
   "metadata": {},
   "outputs": [],
   "source": [
    "note = \"\"\"ModelSeed Universal Model. Add all reactions and compounds, \"\"\"\n",
    "\n",
    "## metabolicModel to export\n",
    "MM = MetabolicModel()\n",
    "MM.id = '' #\n",
    "MM.meta_data = {\n",
    "            'species': 'universal',\n",
    "            'version': '',\n",
    "            'sources': ['https://github.com/ModelSEED/ModelSEEDDatabase/blob/master/Biochemistry/, retrieved 2022-04-13'], #\n",
    "            'status': '',\n",
    "            'last_update': '20220413',  #\n",
    "            'note': note,\n",
    "        }\n",
    "MM.list_of_pathways = [P.serialize() for P in mysubsyslist]\n",
    "MM.list_of_reactions = [R.serialize() for R in  myRxnlist]\n",
    "MM.list_of_compounds = [C.serialize() for C in myCpdlist]"
   ]
  },
  {
   "cell_type": "code",
   "execution_count": 179,
   "metadata": {
    "scrolled": true
   },
   "outputs": [
    {
     "data": {
      "text/plain": [
       "[{'id': 'MSPwy0003',\n",
       "  'name': 'A cluster perhaps related to purine metabolism',\n",
       "  'list_of_reactions': ['rxn00800', 'rxn03136', 'rxn13784']},\n",
       " [{'id': 'rxn00001',\n",
       "   'reactants': ['cpd00001', 'cpd00012'],\n",
       "   'products': ['cpd00009'],\n",
       "   'genes': [],\n",
       "   'enzymes': ['3.6.1.1']},\n",
       "  {'id': 'rxn00002',\n",
       "   'reactants': ['cpd00001', 'cpd00742'],\n",
       "   'products': ['cpd00011', 'cpd00013'],\n",
       "   'genes': [],\n",
       "   'enzymes': ['3.5.1.54']}],\n",
       " [{'id': 'cpd00101',\n",
       "   'name': \"CPD-15317; D-Ribose 5-phosphate; D-ribose 5'-phosphate; D-ribose 5-phosphate; D-ribose-5-P; D-ribose-5-phosphate; D-ribose-5-phosphoric acid; RIBOSE-5P; Ribose 5-phosphate; aldehydo-D-ribose 5-phosphate; alpha-D-Ribose5-phosphate; alpha-D-ribose-5-phosphate; keto-D-ribose 5-phosphate; ribose-5-P; ribose-5-phosphate; ribose-5-phosphoric acid; ribose-5P\",\n",
       "   'identifiers': [('AraCyc', 'RIBOSE-5P'),\n",
       "    ('BiGG', 'r5p'),\n",
       "    ('BrachyCyc', 'RIBOSE-5P'),\n",
       "    ('KEGG', 'C00117'),\n",
       "    ('MetaCyc', 'CPD-15317; CPD-15895; RIBOSE-5P'),\n",
       "    ('inchikey', 'KTVPXOYAKDPRHY-SOOFDHNKSA-L')],\n",
       "   'neutral_formula': 'C5H11O8P',\n",
       "   'charge': -2,\n",
       "   'charged_formula': 'C5H9O8P',\n",
       "   'neutral_mono_mass': 230.019154,\n",
       "   'SMILES': 'O=P([O-])([O-])OC[C@H]1OC(O)[C@H](O)[C@@H]1O',\n",
       "   'inchi': ''},\n",
       "  {'id': 'cpd00102',\n",
       "   'name': '(2R)-2-Hydroxy-3-(phosphonooxy)-propanal; (2R)-2-hydroxy-3-(phosphonooxy)-propanal; (2R)-2-hydroxy-3-(phosphooxy)-propanal; 3-phosphoglyceraldehyde; D-Glyceraldehyde 3-phosphate; D-glyceraldehyde 3-phosphate; D-glyceraldehyde-3-P; D-glyceraldehyde-3-phosphate; GAP; Glyceraldehyde 3-phosphate; Glyceraldehyde-3-phosphate; Glyceraldehyde3-phosphate; gap; glyceraldehyde 3-phosphate; glyceraldehyde-3-P; glyceraldehyde-P; glyceraldehyde-phosphate; triose phosphate',\n",
       "   'identifiers': [('AraCyc', 'GAP'),\n",
       "    ('BiGG', 'g3p'),\n",
       "    ('BrachyCyc', 'GAP'),\n",
       "    ('KEGG', 'C00118'),\n",
       "    ('MetaCyc', 'GAP'),\n",
       "    ('inchikey', 'LXJXRIRHZLFYRP-VKHMYHEASA-L')],\n",
       "   'neutral_formula': 'C3H7O6P',\n",
       "   'charge': -2,\n",
       "   'charged_formula': 'C3H5O6P',\n",
       "   'neutral_mono_mass': 169.998025,\n",
       "   'SMILES': 'O=C[C@H](O)COP(=O)([O-])[O-]',\n",
       "   'inchi': ''}]]"
      ]
     },
     "execution_count": 179,
     "metadata": {},
     "output_type": "execute_result"
    }
   ],
   "source": [
    "# check output\n",
    "[\n",
    "MM.list_of_pathways[2],\n",
    "MM.list_of_reactions[:2],\n",
    "MM.list_of_compounds[100:102],\n",
    "]"
   ]
  },
  {
   "cell_type": "code",
   "execution_count": 181,
   "metadata": {},
   "outputs": [],
   "source": [
    "with open('../output/ModelSeed/Universal_ModelSeed.json', \"w\") as f:\n",
    "    json.dump(MM.serialize(),f)"
   ]
  },
  {
   "cell_type": "code",
   "execution_count": 182,
   "metadata": {},
   "outputs": [],
   "source": [
    "with open('../output/ModelSeed/Universal_ModelSeed.json', \"r\") as f:\n",
    "    test = json.load(f)"
   ]
  }
 ],
 "metadata": {
  "kernelspec": {
   "display_name": "Python 3 (ipykernel)",
   "language": "python",
   "name": "python3"
  },
  "language_info": {
   "codemirror_mode": {
    "name": "ipython",
    "version": 3
   },
   "file_extension": ".py",
   "mimetype": "text/x-python",
   "name": "python",
   "nbconvert_exporter": "python",
   "pygments_lexer": "ipython3",
   "version": "3.8.5"
  }
 },
 "nbformat": 4,
 "nbformat_minor": 4
}
